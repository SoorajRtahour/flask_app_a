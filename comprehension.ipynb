{
 "cells": [
  {
   "cell_type": "code",
   "execution_count": 2,
   "id": "ecd1604e-ee12-44ad-8845-432f4ecb322e",
   "metadata": {},
   "outputs": [],
   "source": [
    "l =[1,2,3,45,6,5]\n",
    "l1 = []\n",
    "for i in l:\n",
    "    l1.append(i**2)"
   ]
  },
  {
   "cell_type": "code",
   "execution_count": 3,
   "id": "f4d3ec94-731d-44ba-be9b-1960d4a8feb8",
   "metadata": {},
   "outputs": [
    {
     "data": {
      "text/plain": [
       "[1, 4, 9, 2025, 36, 25]"
      ]
     },
     "execution_count": 3,
     "metadata": {},
     "output_type": "execute_result"
    }
   ],
   "source": [
    " l1"
   ]
  },
  {
   "cell_type": "code",
   "execution_count": 4,
   "id": "7fa74141-fc1d-45df-a2c3-fd3f68f4d753",
   "metadata": {},
   "outputs": [
    {
     "data": {
      "text/plain": [
       "[1, 2, 3, 45, 6, 5]"
      ]
     },
     "execution_count": 4,
     "metadata": {},
     "output_type": "execute_result"
    }
   ],
   "source": [
    "l"
   ]
  },
  {
   "cell_type": "code",
   "execution_count": 5,
   "id": "b2617c40-76d8-4011-83fc-2a16ff16dfce",
   "metadata": {},
   "outputs": [
    {
     "data": {
      "text/plain": [
       "[1, 4, 9, 2025, 36, 25]"
      ]
     },
     "execution_count": 5,
     "metadata": {},
     "output_type": "execute_result"
    }
   ],
   "source": [
    "[i**2for i in l ]"
   ]
  },
  {
   "cell_type": "code",
   "execution_count": 6,
   "id": "5583c274-1d1a-4f9c-907b-2e38f15f1291",
   "metadata": {},
   "outputs": [
    {
     "data": {
      "text/plain": [
       "[2, 6]"
      ]
     },
     "execution_count": 6,
     "metadata": {},
     "output_type": "execute_result"
    }
   ],
   "source": [
    "[i for i in l if i % 2 ==0 ]"
   ]
  },
  {
   "cell_type": "code",
   "execution_count": 7,
   "id": "69bbeca2-97e9-451b-a4d0-fa5e34fc1b54",
   "metadata": {},
   "outputs": [],
   "source": [
    "l1 = [\"sudh\" , \"pwskills\", \"kumar\", \"dat sciemce master\"]"
   ]
  },
  {
   "cell_type": "code",
   "execution_count": 9,
   "id": "bddb0fc8-9109-4bc9-8ac1-39c958c0006c",
   "metadata": {},
   "outputs": [
    {
     "data": {
      "text/plain": [
       "['SUDH', 'PWSKILLS', 'KUMAR', 'DAT SCIEMCE MASTER']"
      ]
     },
     "execution_count": 9,
     "metadata": {},
     "output_type": "execute_result"
    }
   ],
   "source": [
    "[i.upper() for i in l1]"
   ]
  },
  {
   "cell_type": "code",
   "execution_count": 10,
   "id": "13d7ead0-049c-42a1-8fdd-90d1790491fd",
   "metadata": {},
   "outputs": [
    {
     "data": {
      "text/plain": [
       "[1, 2, 3, 45, 6, 5]"
      ]
     },
     "execution_count": 10,
     "metadata": {},
     "output_type": "execute_result"
    }
   ],
   "source": [
    "l"
   ]
  },
  {
   "cell_type": "code",
   "execution_count": 12,
   "id": "3ffcea3f-683d-4091-9f0a-ce389495df78",
   "metadata": {},
   "outputs": [
    {
     "data": {
      "text/plain": [
       "[1, 4, 9, 2025, 36, 25]"
      ]
     },
     "execution_count": 12,
     "metadata": {},
     "output_type": "execute_result"
    }
   ],
   "source": [
    "list(i**2 for i in l )"
   ]
  },
  {
   "cell_type": "code",
   "execution_count": 13,
   "id": "f6609dd6-ab17-485e-ba39-8bcd3a2febbb",
   "metadata": {},
   "outputs": [],
   "source": [
    "d = {\"key1\" : 1, \"key2\" : 2, \"key3\" :3, \"key4\" :4}"
   ]
  },
  {
   "cell_type": "code",
   "execution_count": 14,
   "id": "c983acc7-5d3b-40cf-889d-019247c275ac",
   "metadata": {},
   "outputs": [
    {
     "data": {
      "text/plain": [
       "dict_items([('key1', 1), ('key2', 2), ('key3', 3), ('key4', 4)])"
      ]
     },
     "execution_count": 14,
     "metadata": {},
     "output_type": "execute_result"
    }
   ],
   "source": [
    "d.items()"
   ]
  },
  {
   "cell_type": "code",
   "execution_count": 16,
   "id": "6dde6ea7-8f8c-4ffc-bec0-69deb19c5523",
   "metadata": {},
   "outputs": [
    {
     "data": {
      "text/plain": [
       "{'key1': 1, 'key2': 4, 'key3': 9, 'key4': 16}"
      ]
     },
     "execution_count": 16,
     "metadata": {},
     "output_type": "execute_result"
    }
   ],
   "source": [
    "{k:v**2 for k , v in d.items()}"
   ]
  },
  {
   "cell_type": "code",
   "execution_count": 17,
   "id": "460141a3-23a2-477e-a861-71d9be0a9a0d",
   "metadata": {},
   "outputs": [
    {
     "data": {
      "text/plain": [
       "{'key2': 2, 'key3': 3, 'key4': 4}"
      ]
     },
     "execution_count": 17,
     "metadata": {},
     "output_type": "execute_result"
    }
   ],
   "source": [
    "{k : v for k , v in d.items() if v > 1}"
   ]
  },
  {
   "cell_type": "code",
   "execution_count": 1,
   "id": "608efb82-f518-4f43-8166-77c90e4c3094",
   "metadata": {},
   "outputs": [],
   "source": [
    "l =[4,7,8,9,5,0,12]"
   ]
  },
  {
   "cell_type": "code",
   "execution_count": 2,
   "id": "a0a56c11-ad60-4932-a9ec-f4e1074fcbd1",
   "metadata": {},
   "outputs": [
    {
     "data": {
      "text/plain": [
       "[16, 49, 64, 81, 25, 0, 144]"
      ]
     },
     "execution_count": 2,
     "metadata": {},
     "output_type": "execute_result"
    }
   ],
   "source": [
    "[i**2 for i in l]"
   ]
  },
  {
   "cell_type": "code",
   "execution_count": 3,
   "id": "f6028a41-a05e-4cdd-a588-ce9745a2391f",
   "metadata": {},
   "outputs": [
    {
     "data": {
      "text/plain": [
       "[4, 8, 0, 12]"
      ]
     },
     "execution_count": 3,
     "metadata": {},
     "output_type": "execute_result"
    }
   ],
   "source": [
    "[i for i in l if i % 2 ==0 ]"
   ]
  },
  {
   "cell_type": "code",
   "execution_count": 3,
   "id": "113cee43-2932-4bdc-8f60-d8be71fc8e3e",
   "metadata": {},
   "outputs": [],
   "source": [
    "l1 = [\"mohit\", \"sachin\", \"subodh\"]"
   ]
  },
  {
   "cell_type": "code",
   "execution_count": 4,
   "id": "f261298f-27ba-4227-a93a-5172e708b403",
   "metadata": {},
   "outputs": [
    {
     "data": {
      "text/plain": [
       "['MOHIT', 'SACHIN', 'SUBODH']"
      ]
     },
     "execution_count": 4,
     "metadata": {},
     "output_type": "execute_result"
    }
   ],
   "source": [
    "[i.upper() for i in l1]"
   ]
  },
  {
   "cell_type": "code",
   "execution_count": 15,
   "id": "a6f633bb-c388-4ea3-88c4-f96f3af70e60",
   "metadata": {},
   "outputs": [
    {
     "data": {
      "text/plain": [
       "['mohit', 'sachin', 'subodh']"
      ]
     },
     "execution_count": 15,
     "metadata": {},
     "output_type": "execute_result"
    }
   ],
   "source": [
    "l1"
   ]
  },
  {
   "cell_type": "code",
   "execution_count": 18,
   "id": "8d9b2d05-8497-4ab3-adb7-fccaf0311aa5",
   "metadata": {},
   "outputs": [],
   "source": [
    "l = [1, 3,5 ,4, 7,8] "
   ]
  },
  {
   "cell_type": "code",
   "execution_count": 19,
   "id": "43b03ba8-cbe7-4c4e-8788-2c6cca5649b5",
   "metadata": {},
   "outputs": [
    {
     "data": {
      "text/plain": [
       "[1, 3, 5, 4, 7, 8]"
      ]
     },
     "execution_count": 19,
     "metadata": {},
     "output_type": "execute_result"
    }
   ],
   "source": [
    "l"
   ]
  },
  {
   "cell_type": "code",
   "execution_count": 22,
   "id": "e447ec89-2c70-487a-afb2-60e3547bbbc3",
   "metadata": {},
   "outputs": [
    {
     "data": {
      "text/plain": [
       "<generator object <genexpr> at 0x7ff3dc222810>"
      ]
     },
     "execution_count": 22,
     "metadata": {},
     "output_type": "execute_result"
    }
   ],
   "source": [
    "(i**2 for i in l )"
   ]
  },
  {
   "cell_type": "code",
   "execution_count": 23,
   "id": "160c1de6-ac75-444d-8678-a834c8c2b817",
   "metadata": {},
   "outputs": [
    {
     "data": {
      "text/plain": [
       "[1, 9, 25, 16, 49, 64]"
      ]
     },
     "execution_count": 23,
     "metadata": {},
     "output_type": "execute_result"
    }
   ],
   "source": [
    "list(i**2 for i in l )"
   ]
  },
  {
   "cell_type": "code",
   "execution_count": 27,
   "id": "cc1a11c6-af10-47e5-8255-70d3c6df1e78",
   "metadata": {},
   "outputs": [],
   "source": [
    "d = {\"key1\" : 1 , \"key2\" : 2, \"key3\" : 3}"
   ]
  },
  {
   "cell_type": "code",
   "execution_count": 28,
   "id": "aff4ffcb-d6c5-481d-9c85-6c6e62528cf0",
   "metadata": {},
   "outputs": [
    {
     "data": {
      "text/plain": [
       "{'key1': 1, 'key2': 2, 'key3': 3}"
      ]
     },
     "execution_count": 28,
     "metadata": {},
     "output_type": "execute_result"
    }
   ],
   "source": [
    "d"
   ]
  },
  {
   "cell_type": "code",
   "execution_count": 32,
   "id": "7b1eaeb1-b7f2-4ea1-851f-4f03b630d8f5",
   "metadata": {},
   "outputs": [
    {
     "data": {
      "text/plain": [
       "{'key1': 1, 'key2': 4, 'key3': 9}"
      ]
     },
     "execution_count": 32,
     "metadata": {},
     "output_type": "execute_result"
    }
   ],
   "source": [
    "{k:v**2 for k , v in d.items()}"
   ]
  },
  {
   "cell_type": "code",
   "execution_count": 31,
   "id": "e211917d-275b-459f-b1a3-e1463f9b92d1",
   "metadata": {},
   "outputs": [
    {
     "data": {
      "text/plain": [
       "dict_items([('key1', 1), ('key2', 2), ('key3', 3)])"
      ]
     },
     "execution_count": 31,
     "metadata": {},
     "output_type": "execute_result"
    }
   ],
   "source": [
    "d.items()"
   ]
  },
  {
   "cell_type": "code",
   "execution_count": null,
   "id": "64d71249-d666-45f1-8ffb-fed7e493e68e",
   "metadata": {},
   "outputs": [],
   "source": [
    "{for k , v in d.items()}"
   ]
  }
 ],
 "metadata": {
  "kernelspec": {
   "display_name": "Python 3 (ipykernel)",
   "language": "python",
   "name": "python3"
  },
  "language_info": {
   "codemirror_mode": {
    "name": "ipython",
    "version": 3
   },
   "file_extension": ".py",
   "mimetype": "text/x-python",
   "name": "python",
   "nbconvert_exporter": "python",
   "pygments_lexer": "ipython3",
   "version": "3.10.8"
  }
 },
 "nbformat": 4,
 "nbformat_minor": 5
}
