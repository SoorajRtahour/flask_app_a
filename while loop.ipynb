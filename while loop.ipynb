{
 "cells": [
  {
   "cell_type": "code",
   "execution_count": 1,
   "id": "7e3aae65-1b89-4b70-a607-ac3b66d64473",
   "metadata": {},
   "outputs": [
    {
     "name": "stdout",
     "output_type": "stream",
     "text": [
      "1\n",
      "2\n",
      "3\n",
      "4\n",
      "5\n",
      "6\n",
      "7\n",
      "8\n",
      "9\n",
      "10\n"
     ]
    }
   ],
   "source": [
    "a=1\n",
    "\n",
    "while a <= 10:\n",
    "    print(a)\n",
    "    a=a +1"
   ]
  },
  {
   "cell_type": "markdown",
   "id": "b368c481-0dcf-4ba6-82e1-74b20f50ff68",
   "metadata": {},
   "source": [
    "#sum of the number till some point"
   ]
  },
  {
   "cell_type": "code",
   "execution_count": 3,
   "id": "e67c63bd-d76e-44fa-bc19-4d77e4b4feb9",
   "metadata": {},
   "outputs": [
    {
     "name": "stdin",
     "output_type": "stream",
     "text": [
      "enter your limit 60\n"
     ]
    },
    {
     "data": {
      "text/plain": [
       "1830"
      ]
     },
     "execution_count": 3,
     "metadata": {},
     "output_type": "execute_result"
    }
   ],
   "source": [
    "n = int(input(\"enter your limit\"))\n",
    "starting_point = 0\n",
    "counter = 1\n",
    "\n",
    "while counter <= n:\n",
    "    starting_point = starting_point + counter\n",
    "    counter = counter +1\n",
    "starting_point"
   ]
  },
  {
   "cell_type": "code",
   "execution_count": 5,
   "id": "53926e12-e39b-4720-9bff-baf33efce457",
   "metadata": {},
   "outputs": [
    {
     "name": "stdin",
     "output_type": "stream",
     "text": [
      "enter your limit 5\n"
     ]
    },
    {
     "data": {
      "text/plain": [
       "15"
      ]
     },
     "execution_count": 5,
     "metadata": {},
     "output_type": "execute_result"
    }
   ],
   "source": [
    "n = int(input(\"enter your limit\"))\n",
    "starting_point = 0\n",
    "counter = 1\n",
    "\n",
    "while counter <= n:\n",
    "    starting_point = starting_point + counter\n",
    "    counter = counter +1\n",
    "starting_point"
   ]
  },
  {
   "cell_type": "code",
   "execution_count": null,
   "id": "bb3b2b62-2e80-4f52-8619-af1dc9f7adc4",
   "metadata": {},
   "outputs": [],
   "source": []
  },
  {
   "cell_type": "code",
   "execution_count": null,
   "id": "0e05660b-7421-4a7d-817a-c7f1638fd4d0",
   "metadata": {},
   "outputs": [],
   "source": [
    "1,2,3,4,5"
   ]
  },
  {
   "cell_type": "code",
   "execution_count": 1,
   "id": "fad10b21-cc5c-4b0e-8dca-482d32c2af00",
   "metadata": {},
   "outputs": [
    {
     "name": "stdin",
     "output_type": "stream",
     "text": [
      "enter tour number 5\n"
     ]
    },
    {
     "data": {
      "text/plain": [
       "120"
      ]
     },
     "execution_count": 1,
     "metadata": {},
     "output_type": "execute_result"
    }
   ],
   "source": [
    "number = int(input(\"enter tour number\"))\n",
    "factorial = 1\n",
    "while number > 0 :\n",
    "    factorial = factorial*number\n",
    "    number = number -1\n",
    "factorial"
   ]
  },
  {
   "cell_type": "code",
   "execution_count": 15,
   "id": "5b404bd4-3e2f-4214-9c9d-809be49c3df2",
   "metadata": {},
   "outputs": [
    {
     "name": "stdin",
     "output_type": "stream",
     "text": [
      "enter tour number 3\n"
     ]
    },
    {
     "data": {
      "text/plain": [
       "6"
      ]
     },
     "execution_count": 15,
     "metadata": {},
     "output_type": "execute_result"
    }
   ],
   "source": [
    "number = int(input(\"enter tour number\"))\n",
    "factorial = 1\n",
    "while number > 0 :\n",
    "    factorial = factorial*number\n",
    "    number = number-1\n",
    "factorial"
   ]
  },
  {
   "cell_type": "code",
   "execution_count": null,
   "id": "928ff837-168e-43e7-b376-b20d05acb421",
   "metadata": {},
   "outputs": [],
   "source": [
    "#Finonacci series"
   ]
  },
  {
   "cell_type": "code",
   "execution_count": 17,
   "id": "019562a0-2629-4dbd-8a32-8d13119acca2",
   "metadata": {},
   "outputs": [
    {
     "name": "stdin",
     "output_type": "stream",
     "text": [
      "enter the number of element you are looking for  10\n"
     ]
    },
    {
     "name": "stdout",
     "output_type": "stream",
     "text": [
      "0\n",
      "1\n",
      "1\n",
      "2\n",
      "3\n",
      "5\n",
      "8\n",
      "13\n",
      "21\n",
      "34\n"
     ]
    }
   ],
   "source": [
    "number = int(input(\"enter the number of element you are looking for \"))\n",
    "a , b = 0 , 1\n",
    "counter =0\n",
    "while counter < number :\n",
    "    print(a)\n",
    "    c = a+b\n",
    "    a = b \n",
    "    b = c\n",
    "    counter = counter +1"
   ]
  },
  {
   "cell_type": "code",
   "execution_count": 18,
   "id": "32d138fe-d315-4ed7-98bd-a03b24e772d9",
   "metadata": {},
   "outputs": [
    {
     "name": "stdin",
     "output_type": "stream",
     "text": [
      "enter the number of element you are looking for  5\n"
     ]
    },
    {
     "name": "stdout",
     "output_type": "stream",
     "text": [
      "0\n",
      "1\n",
      "1\n",
      "2\n",
      "3\n"
     ]
    }
   ],
   "source": [
    "number = int(input(\"enter the number of element you are looking for \"))\n",
    "a , b = 0 , 1\n",
    "counter =0\n",
    "while counter < number :\n",
    "    print(a)\n",
    "    c = a+b\n",
    "    a = b \n",
    "    b = c\n",
    "    counter = counter +1"
   ]
  },
  {
   "cell_type": "code",
   "execution_count": 20,
   "id": "7f8a4a78-6216-4e21-8d54-b18a875cecdf",
   "metadata": {},
   "outputs": [
    {
     "name": "stdin",
     "output_type": "stream",
     "text": [
      "enter the number of element you are looking for  60\n"
     ]
    },
    {
     "name": "stdout",
     "output_type": "stream",
     "text": [
      "50\n",
      "51\n",
      "101\n",
      "152\n",
      "253\n",
      "405\n",
      "658\n",
      "1063\n",
      "1721\n",
      "2784\n",
      "4505\n",
      "7289\n",
      "11794\n",
      "19083\n",
      "30877\n",
      "49960\n",
      "80837\n",
      "130797\n",
      "211634\n",
      "342431\n",
      "554065\n",
      "896496\n",
      "1450561\n",
      "2347057\n",
      "3797618\n",
      "6144675\n",
      "9942293\n",
      "16086968\n",
      "26029261\n",
      "42116229\n",
      "68145490\n",
      "110261719\n",
      "178407209\n",
      "288668928\n",
      "467076137\n",
      "755745065\n",
      "1222821202\n",
      "1978566267\n",
      "3201387469\n",
      "5179953736\n",
      "8381341205\n",
      "13561294941\n",
      "21942636146\n",
      "35503931087\n",
      "57446567233\n",
      "92950498320\n",
      "150397065553\n",
      "243347563873\n",
      "393744629426\n",
      "637092193299\n",
      "1030836822725\n",
      "1667929016024\n",
      "2698765838749\n",
      "4366694854773\n",
      "7065460693522\n",
      "11432155548295\n",
      "18497616241817\n",
      "29929771790112\n",
      "48427388031929\n",
      "78357159822041\n"
     ]
    }
   ],
   "source": [
    "number = int(input(\"enter the number of element you are looking for \"))\n",
    "a , b = 50 , 51\n",
    "counter =0\n",
    "while counter < number :\n",
    "    print(a)\n",
    "    c = a+b\n",
    "    a = b \n",
    "    b = c\n",
    "    counter = counter +1"
   ]
  },
  {
   "cell_type": "code",
   "execution_count": 2,
   "id": "a5ed3191-fb28-447f-9de6-f31cae703e05",
   "metadata": {},
   "outputs": [
    {
     "name": "stdout",
     "output_type": "stream",
     "text": [
      "0\n",
      "1\n",
      "1\n",
      "2\n",
      "3\n",
      "5\n",
      "8\n",
      "13\n",
      "21\n",
      "34\n"
     ]
    }
   ],
   "source": [
    "a , b =0,1\n",
    "\n",
    "for i in range(10):\n",
    "    print(a)\n",
    "    c= a+b\n",
    "    a=b\n",
    "    b=c\n",
    "    \n",
    "    "
   ]
  },
  {
   "cell_type": "code",
   "execution_count": 3,
   "id": "2edeee9b-5524-45b6-b727-5761ca66c338",
   "metadata": {},
   "outputs": [],
   "source": [
    " s = \"sudh\""
   ]
  },
  {
   "cell_type": "code",
   "execution_count": 4,
   "id": "d3477632-5c38-4002-ad82-a1ddb7d38095",
   "metadata": {},
   "outputs": [
    {
     "data": {
      "text/plain": [
       "'hdus'"
      ]
     },
     "execution_count": 4,
     "metadata": {},
     "output_type": "execute_result"
    }
   ],
   "source": [
    "s[::-1]"
   ]
  },
  {
   "cell_type": "code",
   "execution_count": 5,
   "id": "0bd48d29-9ccf-43ba-a740-4e365ea43e46",
   "metadata": {},
   "outputs": [
    {
     "name": "stdin",
     "output_type": "stream",
     "text": [
      "enter your string for reversal sudh\n"
     ]
    }
   ],
   "source": [
    "word = input(\"enter your string for reversal\")"
   ]
  },
  {
   "cell_type": "code",
   "execution_count": 6,
   "id": "0b1de7fd-b895-4dbe-a347-af9de7f8214f",
   "metadata": {},
   "outputs": [
    {
     "name": "stdout",
     "output_type": "stream",
     "text": [
      "hdus\n"
     ]
    }
   ],
   "source": [
    " reverse = \"\"\n",
    "lenght = len(word)\n",
    "while lenght > 0:\n",
    "    reverse = reverse + word[lenght -1]\n",
    "    lenght = lenght -1\n",
    "print(reverse)"
   ]
  },
  {
   "cell_type": "code",
   "execution_count": 7,
   "id": "63b78853-e872-4b28-b110-61dd66b2e147",
   "metadata": {},
   "outputs": [],
   "source": [
    "#print table of numbers "
   ]
  },
  {
   "cell_type": "code",
   "execution_count": 9,
   "id": "37677abd-24a7-45c1-94d5-22879bf325cc",
   "metadata": {},
   "outputs": [
    {
     "name": "stdin",
     "output_type": "stream",
     "text": [
      "enter your number 2\n"
     ]
    },
    {
     "name": "stdout",
     "output_type": "stream",
     "text": [
      "2 * 1 = 2\n",
      "2 * 2 = 4\n",
      "2 * 3 = 6\n",
      "2 * 4 = 8\n",
      "2 * 5 = 10\n",
      "2 * 6 = 12\n",
      "2 * 7 = 14\n",
      "2 * 8 = 16\n",
      "2 * 9 = 18\n",
      "2 * 10 = 20\n"
     ]
    }
   ],
   "source": [
    "n = int(input(\"enter your number\"))\n",
    "i = 1\n",
    "\n",
    "while i <= 10 :\n",
    "    result = n *i\n",
    "    print(n , \"*\" , i , \"=\" , result)\n",
    "    i = i+1"
   ]
  },
  {
   "cell_type": "code",
   "execution_count": 10,
   "id": "e75ac7c8-a17d-4d31-8c11-bfeeb3c8c485",
   "metadata": {},
   "outputs": [
    {
     "name": "stdin",
     "output_type": "stream",
     "text": [
      "enter your number 12\n"
     ]
    },
    {
     "name": "stdout",
     "output_type": "stream",
     "text": [
      "12 * 1 = 12\n",
      "12 * 2 = 24\n",
      "12 * 3 = 36\n",
      "12 * 4 = 48\n",
      "12 * 5 = 60\n",
      "12 * 6 = 72\n",
      "12 * 7 = 84\n",
      "12 * 8 = 96\n",
      "12 * 9 = 108\n",
      "12 * 10 = 120\n"
     ]
    }
   ],
   "source": [
    "n = int(input(\"enter your number\"))\n",
    "i = 1\n",
    "\n",
    "while i <= 10 :\n",
    "    result = n *i\n",
    "    print(n , \"*\" , i , \"=\" , result)\n",
    "    i = i+1"
   ]
  },
  {
   "cell_type": "code",
   "execution_count": 11,
   "id": "52644bf0-911a-4f9a-91ff-78a6caa0d1c6",
   "metadata": {},
   "outputs": [
    {
     "name": "stdin",
     "output_type": "stream",
     "text": [
      "enter your number 8\n"
     ]
    },
    {
     "name": "stdout",
     "output_type": "stream",
     "text": [
      "8 * 1 = 8\n",
      "8 * 2 = 16\n",
      "8 * 3 = 24\n",
      "8 * 4 = 32\n",
      "8 * 5 = 40\n",
      "8 * 6 = 48\n",
      "8 * 7 = 56\n",
      "8 * 8 = 64\n",
      "8 * 9 = 72\n",
      "8 * 10 = 80\n",
      "8 * 11 = 88\n",
      "8 * 12 = 96\n",
      "8 * 13 = 104\n",
      "8 * 14 = 112\n",
      "8 * 15 = 120\n",
      "8 * 16 = 128\n",
      "8 * 17 = 136\n",
      "8 * 18 = 144\n",
      "8 * 19 = 152\n",
      "8 * 20 = 160\n"
     ]
    }
   ],
   "source": [
    "n = int(input(\"enter your number\"))\n",
    "i = 1\n",
    "\n",
    "while i <= 20 :\n",
    "    result = n *i\n",
    "    print(n , \"*\" , i , \"=\" , result)\n",
    "    i = i+1"
   ]
  },
  {
   "cell_type": "code",
   "execution_count": 12,
   "id": "ad52d00e-1029-41d6-8884-4818b9a31057",
   "metadata": {},
   "outputs": [
    {
     "name": "stdout",
     "output_type": "stream",
     "text": [
      "1\n",
      "2\n",
      "3\n",
      "4\n"
     ]
    }
   ],
   "source": [
    "n = 5 \n",
    "i = 1\n",
    "while i < n :\n",
    "    print(i)\n",
    "    i = i + 1"
   ]
  },
  {
   "cell_type": "code",
   "execution_count": 13,
   "id": "5e12cfce-ca6c-429f-8490-81cb7892c28d",
   "metadata": {},
   "outputs": [
    {
     "name": "stdout",
     "output_type": "stream",
     "text": [
      "1\n",
      "2\n",
      "3\n"
     ]
    }
   ],
   "source": [
    "n = 5 \n",
    "i = 1\n",
    "while i < n :\n",
    "    print(i)\n",
    "    if i == 3 :\n",
    "        break\n",
    "    i = i + 1\n",
    "else :\n",
    "    print(\"this will be executed once your while will complete it succesfully\")"
   ]
  },
  {
   "cell_type": "code",
   "execution_count": 14,
   "id": "eb8e0c5c-ce69-4b56-bd7d-f2c1e134d44f",
   "metadata": {},
   "outputs": [
    {
     "name": "stdout",
     "output_type": "stream",
     "text": [
      "1\n",
      "2\n",
      "3\n",
      "4\n",
      "this will be executed once your while will complete it succesfully\n"
     ]
    }
   ],
   "source": [
    "n = 5 \n",
    "i = 1\n",
    "while i < n :\n",
    "    print(i)\n",
    "    if i == 7 :\n",
    "        break\n",
    "    i = i + 1\n",
    "else :\n",
    "    print(\"this will be executed once your while will complete it succesfully\")"
   ]
  },
  {
   "cell_type": "code",
   "execution_count": null,
   "id": "5f04cfda-7c16-482e-8373-a4bdd27accce",
   "metadata": {},
   "outputs": [],
   "source": []
  }
 ],
 "metadata": {
  "kernelspec": {
   "display_name": "Python 3 (ipykernel)",
   "language": "python",
   "name": "python3"
  },
  "language_info": {
   "codemirror_mode": {
    "name": "ipython",
    "version": 3
   },
   "file_extension": ".py",
   "mimetype": "text/x-python",
   "name": "python",
   "nbconvert_exporter": "python",
   "pygments_lexer": "ipython3",
   "version": "3.10.8"
  }
 },
 "nbformat": 4,
 "nbformat_minor": 5
}
